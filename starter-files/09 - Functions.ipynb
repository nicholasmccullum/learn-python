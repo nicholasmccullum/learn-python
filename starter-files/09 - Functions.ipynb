{
 "cells": [
  {
   "cell_type": "markdown",
   "metadata": {},
   "source": [
    "# Practice Problems: Functions\n",
    "\n",
    "For every problem in this problem set, please test your solution by running the function within a `print()` statement at the end of the code cell."
   ]
  },
  {
   "cell_type": "markdown",
   "metadata": {},
   "source": [
    "# Problem 1\n",
    "\n",
    "Write a Python function called `max_of_three` to find the maximum value between three numbers. Do not use the `max()` function. \n",
    "\n",
    "Hint: in my solution, I found it easiest to create a different function called `max_of_two` and use that function to base my `max_of_three` off of."
   ]
  },
  {
   "cell_type": "code",
   "execution_count": null,
   "metadata": {},
   "outputs": [],
   "source": []
  },
  {
   "cell_type": "markdown",
   "metadata": {},
   "source": [
    "# Problem 2\n",
    "\n",
    "Write a Python function called `multiply` to multiply all of the numbers in a list together and return that value. The function should be created in such a way that it will work for both lists, tuples, and sets."
   ]
  },
  {
   "cell_type": "code",
   "execution_count": null,
   "metadata": {},
   "outputs": [],
   "source": []
  },
  {
   "cell_type": "markdown",
   "metadata": {},
   "source": [
    "# Problem 3\n",
    "\n",
    "Write a Python function called `caseCounter` that counts the number of lowercase and uppercase characters in a string. If you're up to it, store the lowercase and uppercase variables in a dictionary within the function. The function should print two sentences that state the number of uppercase and lowercase characters."
   ]
  },
  {
   "cell_type": "code",
   "execution_count": null,
   "metadata": {},
   "outputs": [],
   "source": []
  },
  {
   "cell_type": "markdown",
   "metadata": {},
   "source": [
    "# Problem 4\n",
    "Write a Python function called `duplicateEliminator` that takes in a list, eliminates any duplicate values, and returns a set. \n",
    "\n",
    "Hint: This is probably easier than you think."
   ]
  },
  {
   "cell_type": "code",
   "execution_count": null,
   "metadata": {},
   "outputs": [],
   "source": []
  },
  {
   "cell_type": "markdown",
   "metadata": {},
   "source": [
    "# Problem 5\n",
    "\n",
    "Write a Python function called `squareMachine` that takes in a list and returns another list whose elements are the values of the first list squared."
   ]
  },
  {
   "cell_type": "code",
   "execution_count": null,
   "metadata": {},
   "outputs": [],
   "source": []
  },
  {
   "cell_type": "markdown",
   "metadata": {},
   "source": [
    "# Problem 6\n",
    "Write a Python function called `dictDecomposer` that takes in a dictionary and prints two lines of text:\n",
    "* One line stating the keys of the dictionary\n",
    "* One line stating the values of the dictionary\n",
    "\n",
    "An example output from the correct solution is below:\n",
    "\n",
    "```\n",
    "The keys of the dictionary are ['firstName', 'lastName'] \n",
    "\n",
    "The values of the dictionary are ['Nick', 'McCullum']\n",
    "```"
   ]
  },
  {
   "cell_type": "code",
   "execution_count": null,
   "metadata": {},
   "outputs": [],
   "source": []
  }
 ],
 "metadata": {
  "kernelspec": {
   "display_name": "Python 3",
   "language": "python",
   "name": "python3"
  },
  "language_info": {
   "codemirror_mode": {
    "name": "ipython",
    "version": 3
   },
   "file_extension": ".py",
   "mimetype": "text/x-python",
   "name": "python",
   "nbconvert_exporter": "python",
   "pygments_lexer": "ipython3",
   "version": "3.7.6"
  }
 },
 "nbformat": 4,
 "nbformat_minor": 4
}
