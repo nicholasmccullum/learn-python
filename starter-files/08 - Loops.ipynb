{
 "cells": [
  {
   "cell_type": "markdown",
   "metadata": {},
   "source": [
    "# Problem 1\n",
    "\n",
    "Write 4 separate `for` loops that prints every element from the following 4 lists."
   ]
  },
  {
   "cell_type": "code",
   "execution_count": null,
   "metadata": {},
   "outputs": [],
   "source": [
    "canadianProvinces = [\n",
    "                    'Ontario',\n",
    "                    'Quebec', \n",
    "                    'British Columbia',\n",
    "                    'New Brunswick',\n",
    "                    'Nova Scotia',\n",
    "                    'Prince Edward Island',\n",
    "                    'Newfoundland and Labrador',\n",
    "                    'Saskatchewan',\n",
    "                    'Manitoba',\n",
    "                    'Alberta',\n",
    "                    'British Columbia'\n",
    "                    ]"
   ]
  },
  {
   "cell_type": "code",
   "execution_count": null,
   "metadata": {},
   "outputs": [],
   "source": [
    "integers = [1, 2, 3, 4, 5]"
   ]
  },
  {
   "cell_type": "code",
   "execution_count": null,
   "metadata": {},
   "outputs": [],
   "source": [
    "babyNames = ['Nick', 'Levi', 'Josiah', 'Micaiah', 'Sam', 'Taylor', 'Joel']"
   ]
  },
  {
   "cell_type": "code",
   "execution_count": null,
   "metadata": {},
   "outputs": [],
   "source": [
    "carmakers = ['Toyota', 'Honda', 'Ford', 'GM']"
   ]
  },
  {
   "cell_type": "markdown",
   "metadata": {},
   "source": [
    "# Problem 2\n",
    "\n",
    "Create a `for` loop that counts the number of even and odd integers in the list below. It should return two strings on separate lines that print sentences with interpolated variables that inform the user how many of each integer type are in the list."
   ]
  },
  {
   "cell_type": "code",
   "execution_count": null,
   "metadata": {},
   "outputs": [],
   "source": [
    "numbers = [1, 2, 3, 4, 5, 6, 7, 8, 9]"
   ]
  },
  {
   "cell_type": "markdown",
   "metadata": {},
   "source": [
    "# Problem 3\n",
    "\n",
    "Write a `for` loop that prints the integers from the following list - but only if they are even."
   ]
  },
  {
   "cell_type": "code",
   "execution_count": null,
   "metadata": {},
   "outputs": [],
   "source": [
    "integers = [2, 4, 5, 6]     "
   ]
  },
  {
   "cell_type": "markdown",
   "metadata": {},
   "source": [
    "# Problem 4\n",
    "\n",
    "Write an infinite loop.\n",
    "\n",
    "To stop the infinite loop, click Kernel -> Restart at the top of the Jupyter Notebook."
   ]
  },
  {
   "cell_type": "code",
   "execution_count": null,
   "metadata": {},
   "outputs": [],
   "source": []
  },
  {
   "cell_type": "markdown",
   "metadata": {},
   "source": [
    "# Problem 5\n",
    "\n",
    "The factorial of any number n is represented by n! and is equal to 1*2*3*....*(n-1)*n. E.g.-\n",
    "4! = 1*2*3*4 = 24\n",
    "3! = 3*2*1 = 6\n",
    "2! = 2*1 = 2\n",
    "\n",
    "Given a provided integer named `number`, write a loop to calculate its factorial. You will need to account for the special cases of `1! = 1` and `0! = 1`."
   ]
  },
  {
   "cell_type": "code",
   "execution_count": null,
   "metadata": {},
   "outputs": [],
   "source": [
    "number = 4"
   ]
  },
  {
   "cell_type": "markdown",
   "metadata": {},
   "source": [
    "# Problem 6\n",
    "\n",
    "Write a `while` loop that has the same functionality as the following `for` loop."
   ]
  },
  {
   "cell_type": "code",
   "execution_count": null,
   "metadata": {},
   "outputs": [],
   "source": [
    "furniture = ['table', 'chair', 'desk', 'lamp', 'couch']\n",
    "\n",
    "for item in furniture:\n",
    "    print(f'YOU WILL NOT BE ABLE TO FIND A {item.upper()} CHEAPER THAN OUR PRICES AT FURNITURE MART!')"
   ]
  },
  {
   "cell_type": "code",
   "execution_count": null,
   "metadata": {},
   "outputs": [],
   "source": []
  },
  {
   "cell_type": "markdown",
   "metadata": {},
   "source": [
    "# Problem 7\n",
    "\n",
    "Write a `for` loop that has the same functionality as the following `while` loop."
   ]
  },
  {
   "cell_type": "code",
   "execution_count": null,
   "metadata": {},
   "outputs": [],
   "source": [
    "integerList = [1, 2, 3, 4, 5, 6]\n",
    "i = 0\n",
    "multiplierVariable = 1\n",
    "while i < len(integerList):\n",
    "    multiplierVariable = multiplierVariable * integerList[i]\n",
    "    i += 1\n",
    "print(f\"The product of all of the items in the list is {multiplierVariable}\")"
   ]
  },
  {
   "cell_type": "code",
   "execution_count": null,
   "metadata": {},
   "outputs": [],
   "source": []
  }
 ],
 "metadata": {
  "kernelspec": {
   "display_name": "Python 3",
   "language": "python",
   "name": "python3"
  },
  "language_info": {
   "codemirror_mode": {
    "name": "ipython",
    "version": 3
   },
   "file_extension": ".py",
   "mimetype": "text/x-python",
   "name": "python",
   "nbconvert_exporter": "python",
   "pygments_lexer": "ipython3",
   "version": "3.7.6"
  }
 },
 "nbformat": 4,
 "nbformat_minor": 4
}
