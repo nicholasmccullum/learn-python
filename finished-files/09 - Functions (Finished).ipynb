{
 "cells": [
  {
   "cell_type": "markdown",
   "metadata": {},
   "source": [
    "# Practice Problems: Functions\n",
    "\n",
    "For every problem in this problem set, please test your solution by running the function within a `print()` statement at the end of the code cell."
   ]
  },
  {
   "cell_type": "markdown",
   "metadata": {},
   "source": [
    "# Problem 1\n",
    "\n",
    "Write a Python function called `max_of_three` to find the maximum value between three numbers. Do not use the `max()` function. \n",
    "\n",
    "Hint: in my solution, I found it easiest to create a different function called `max_of_two` and use that function to base my `max_of_three` off of."
   ]
  },
  {
   "cell_type": "code",
   "execution_count": 1,
   "metadata": {},
   "outputs": [
    {
     "name": "stdout",
     "output_type": "stream",
     "text": [
      "6\n"
     ]
    }
   ],
   "source": [
    "def max_of_two( x, y ):\n",
    "    if x > y:\n",
    "        return x\n",
    "    return y\n",
    "\n",
    "def max_of_three( x, y, z ):\n",
    "    return max_of_two( x, max_of_two( y, z ) )\n",
    "\n",
    "print(max_of_three(3, 6, -5))"
   ]
  },
  {
   "cell_type": "markdown",
   "metadata": {},
   "source": [
    "# Problem 2\n",
    "\n",
    "Write a Python function called `multiply` to multiply all of the numbers in a list together and return that value. The function should be created in such a way that it will work for both lists, tuples, and sets."
   ]
  },
  {
   "cell_type": "code",
   "execution_count": 2,
   "metadata": {},
   "outputs": [
    {
     "name": "stdout",
     "output_type": "stream",
     "text": [
      "-336\n"
     ]
    }
   ],
   "source": [
    "def multiply(numbers):  \n",
    "    total = 1\n",
    "    for x in numbers:\n",
    "        total *= x  \n",
    "    return total  \n",
    "\n",
    "testList = [8, 2, 3, -1, 7]\n",
    "\n",
    "print(multiply(testList))"
   ]
  },
  {
   "cell_type": "markdown",
   "metadata": {},
   "source": [
    "# Problem 3\n",
    "\n",
    "Write a Python function called `caseCounter` that counts the number of lowercase and uppercase characters in a string. If you're up to it, store the lowercase and uppercase variables in a dictionary within the function. The function should print two sentences that state the number of uppercase and lowercase characters."
   ]
  },
  {
   "cell_type": "code",
   "execution_count": 3,
   "metadata": {},
   "outputs": [
    {
     "name": "stdout",
     "output_type": "stream",
     "text": [
      "No. of uppercase characters :  3\n",
      "No. of lowercase Characters :  13\n",
      "None\n"
     ]
    }
   ],
   "source": [
    "def caseCounter(s):\n",
    "    d={\"UPPER_CASE\":0, \"LOWER_CASE\":0}\n",
    "    for c in s:\n",
    "        if c.isupper():\n",
    "           d[\"UPPER_CASE\"]+=1\n",
    "        elif c.islower():\n",
    "           d[\"LOWER_CASE\"]+=1\n",
    "        else:\n",
    "           pass\n",
    "    print (\"No. of uppercase characters : \", d[\"UPPER_CASE\"])\n",
    "    print (\"No. of lowercase Characters : \", d[\"LOWER_CASE\"])\n",
    "    \n",
    "print(caseCounter('Nicholas McCullum'))"
   ]
  },
  {
   "cell_type": "markdown",
   "metadata": {},
   "source": [
    "# Problem 4\n",
    "Write a Python function called `duplicateEliminator` that takes in a list, eliminates any duplicate values, and returns a set. \n",
    "\n",
    "Hint: This is probably easier than you think."
   ]
  },
  {
   "cell_type": "code",
   "execution_count": 4,
   "metadata": {},
   "outputs": [
    {
     "name": "stdout",
     "output_type": "stream",
     "text": [
      "{1, 2}\n"
     ]
    }
   ],
   "source": [
    "def duplicateEliminator(l):\n",
    "    return set(l)\n",
    "\n",
    "print(duplicateEliminator([1,1,2,2]))"
   ]
  },
  {
   "cell_type": "markdown",
   "metadata": {},
   "source": [
    "# Problem 4\n",
    "\n",
    "Write a Python function called `squareMachine` that takes in a list and returns another list whose elements are the values of the first list squared."
   ]
  },
  {
   "cell_type": "code",
   "execution_count": 5,
   "metadata": {},
   "outputs": [
    {
     "name": "stdout",
     "output_type": "stream",
     "text": [
      "[1, 4, 9, 16, 25]\n"
     ]
    }
   ],
   "source": [
    "def squareMachine(theList):\n",
    "    i = 0\n",
    "    while i < len(theList):\n",
    "        theList[i] = theList[i]**2\n",
    "        i += 1\n",
    "    return theList\n",
    "\n",
    "print(squareMachine([1,2,3,4,5]))"
   ]
  },
  {
   "cell_type": "markdown",
   "metadata": {},
   "source": [
    "# Problem 5\n",
    "Write a Python function called `dictDecomposer` that takes in a dictionary and prints two lines of text:\n",
    "* One line stating the keys of the dictionary\n",
    "* One line stating the values of the dictionary\n",
    "\n",
    "An example output from the correct solution is below:\n",
    "\n",
    "```\n",
    "The keys of the dictionary are ['firstName', 'lastName'] \n",
    "\n",
    "The values of the dictionary are ['Nick', 'McCullum']\n",
    "```"
   ]
  },
  {
   "cell_type": "code",
   "execution_count": 6,
   "metadata": {},
   "outputs": [
    {
     "name": "stdout",
     "output_type": "stream",
     "text": [
      "The keys of the dictionary are ['firstName', 'lastName']\n",
      "The values of the dictionary are ['Nick', 'McCullum']\n"
     ]
    }
   ],
   "source": [
    "def dictDecomposer(theDict):\n",
    "    print(f\"The keys of the dictionary are {list(theDict.keys())}\")\n",
    "    print(f\"The values of the dictionary are {list(theDict.values())}\")\n",
    "    \n",
    "testDictionary = {\n",
    "    'firstName': 'Nick',\n",
    "    'lastName': 'McCullum'\n",
    "}\n",
    "\n",
    "dictDecomposer(testDictionary)"
   ]
  }
 ],
 "metadata": {
  "kernelspec": {
   "display_name": "Python 3",
   "language": "python",
   "name": "python3"
  },
  "language_info": {
   "codemirror_mode": {
    "name": "ipython",
    "version": 3
   },
   "file_extension": ".py",
   "mimetype": "text/x-python",
   "name": "python",
   "nbconvert_exporter": "python",
   "pygments_lexer": "ipython3",
   "version": "3.7.6"
  }
 },
 "nbformat": 4,
 "nbformat_minor": 4
}
