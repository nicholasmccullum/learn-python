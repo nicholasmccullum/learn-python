{
 "cells": [
  {
   "cell_type": "markdown",
   "metadata": {},
   "source": [
    "# Problem 1\n",
    "\n",
    "Test whether the following two variables are equal."
   ]
  },
  {
   "cell_type": "code",
   "execution_count": 1,
   "metadata": {},
   "outputs": [
    {
     "data": {
      "text/plain": [
       "False"
      ]
     },
     "execution_count": 1,
     "metadata": {},
     "output_type": "execute_result"
    }
   ],
   "source": [
    "var1 = '546465465+92681651284+62+62+160+6+2+6+1+5612+6'\n",
    "var2 = '546465465+92681651284+62+62+160+6+2+6+1+5613+6'\n",
    "var1 == var2"
   ]
  },
  {
   "cell_type": "markdown",
   "metadata": {},
   "source": [
    "# Problem 2\n",
    "\n",
    "Use the inequality operator to prove that the following two variables are indeed different."
   ]
  },
  {
   "cell_type": "code",
   "execution_count": 2,
   "metadata": {},
   "outputs": [
    {
     "data": {
      "text/plain": [
       "True"
      ]
     },
     "execution_count": 2,
     "metadata": {},
     "output_type": "execute_result"
    }
   ],
   "source": [
    "trueBool = True\n",
    "falseBool = False\n",
    "trueBool != falseBool"
   ]
  },
  {
   "cell_type": "markdown",
   "metadata": {},
   "source": [
    "# Problem 3\n",
    "\n",
    "By using chained inequality operators, confirm that the three variables below each contain different values."
   ]
  },
  {
   "cell_type": "code",
   "execution_count": 3,
   "metadata": {},
   "outputs": [
    {
     "data": {
      "text/plain": [
       "True"
      ]
     },
     "execution_count": 3,
     "metadata": {},
     "output_type": "execute_result"
    }
   ],
   "source": [
    "firstMeal = 'breakfast'\n",
    "secondMeal = 'lunch'\n",
    "thirdMeal = 'supper'\n",
    "firstMeal != secondMeal != thirdMeal"
   ]
  },
  {
   "cell_type": "markdown",
   "metadata": {},
   "source": [
    "# Problem 4\n",
    "\n",
    "Using the variable below and the `not` operator, print `False`."
   ]
  },
  {
   "cell_type": "code",
   "execution_count": 4,
   "metadata": {},
   "outputs": [
    {
     "data": {
      "text/plain": [
       "False"
      ]
     },
     "execution_count": 4,
     "metadata": {},
     "output_type": "execute_result"
    }
   ],
   "source": [
    "variable = True\n",
    "not variable"
   ]
  },
  {
   "cell_type": "markdown",
   "metadata": {},
   "source": [
    "# Problem 5\n",
    "Test whether the two variables are equal to each other. Store the value of the test in another variable called `areTheyEqual`."
   ]
  },
  {
   "cell_type": "code",
   "execution_count": 5,
   "metadata": {},
   "outputs": [],
   "source": [
    "one = 1\n",
    "two = 2\n",
    "areTheyEqual = one == two"
   ]
  },
  {
   "cell_type": "markdown",
   "metadata": {},
   "source": [
    "# Problem 6\n",
    "Using the `and` operator, print `True` if all three of these variables are `True` and print `False` otherwise."
   ]
  },
  {
   "cell_type": "code",
   "execution_count": 6,
   "metadata": {},
   "outputs": [
    {
     "data": {
      "text/plain": [
       "False"
      ]
     },
     "execution_count": 6,
     "metadata": {},
     "output_type": "execute_result"
    }
   ],
   "source": [
    "var1 = True\n",
    "var2 = False\n",
    "var3 = True\n",
    "var1 and var2 and var3"
   ]
  },
  {
   "cell_type": "markdown",
   "metadata": {},
   "source": [
    "# Problem 7\n",
    "Using the `or` operator, print `False` if all three of these variables are `False` and print `True` otherwise."
   ]
  },
  {
   "cell_type": "code",
   "execution_count": 7,
   "metadata": {},
   "outputs": [
    {
     "data": {
      "text/plain": [
       "True"
      ]
     },
     "execution_count": 7,
     "metadata": {},
     "output_type": "execute_result"
    }
   ],
   "source": [
    "var1 = True\n",
    "var2 = False\n",
    "var3 = True\n",
    "var1 or var2 or var3"
   ]
  },
  {
   "cell_type": "markdown",
   "metadata": {},
   "source": [
    "# Problem 8\n",
    "Using comparison operators, an `if` statement, and an `else` statement, print `var1 is greater than var2` if that is the case and `var2 is greater than or equal to var1` otherwise."
   ]
  },
  {
   "cell_type": "code",
   "execution_count": 8,
   "metadata": {},
   "outputs": [
    {
     "name": "stdout",
     "output_type": "stream",
     "text": [
      "var2 is greater than or equal to var1\n"
     ]
    }
   ],
   "source": [
    "var1 = 3\n",
    "var2 = 4\n",
    "\n",
    "if(var1 > var2):\n",
    "    print('var1 is greater than var2')\n",
    "else:\n",
    "    print('var2 is greater than or equal to var1')"
   ]
  },
  {
   "cell_type": "markdown",
   "metadata": {},
   "source": [
    "# Problem 9\n",
    "Build an `if`-`elif`-`else` statement that prints one of the following three strings depending on the value of the variable `number`:\n",
    "* 'Number is less than 10'.\n",
    "* 'Number is between 10 and 20, inclusive'. Note - you will need an `and` statement here.\n",
    "* 'Number is greater than 20'.\n",
    "\n",
    "Make sure the statement still works if `number` is exactly 10 or exactly 20."
   ]
  },
  {
   "cell_type": "code",
   "execution_count": 9,
   "metadata": {},
   "outputs": [
    {
     "name": "stdout",
     "output_type": "stream",
     "text": [
      "Number is between 10 and 20, inclusive\n"
     ]
    }
   ],
   "source": [
    "number = 15\n",
    "\n",
    "if(number < 10):\n",
    "    print('Number is less than 10')\n",
    "elif(number >= 10 and number <= 20):\n",
    "    print('Number is between 10 and 20, inclusive')\n",
    "else:\n",
    "    print('Number is greater than 20')"
   ]
  }
 ],
 "metadata": {
  "kernelspec": {
   "display_name": "Python 3",
   "language": "python",
   "name": "python3"
  },
  "language_info": {
   "codemirror_mode": {
    "name": "ipython",
    "version": 3
   },
   "file_extension": ".py",
   "mimetype": "text/x-python",
   "name": "python",
   "nbconvert_exporter": "python",
   "pygments_lexer": "ipython3",
   "version": "3.7.6"
  }
 },
 "nbformat": 4,
 "nbformat_minor": 4
}
