{
 "cells": [
  {
   "cell_type": "markdown",
   "metadata": {},
   "source": [
    "# Problem 1\n",
    "\n",
    "Write 4 separate `for` loops that prints every element from the following 4 lists."
   ]
  },
  {
   "cell_type": "code",
   "execution_count": 1,
   "metadata": {},
   "outputs": [
    {
     "name": "stdout",
     "output_type": "stream",
     "text": [
      "Ontario\n",
      "Quebec\n",
      "British Columbia\n",
      "New Brunswick\n",
      "Nova Scotia\n",
      "Prince Edward Island\n",
      "Newfoundland and Labrador\n",
      "Saskatchewan\n",
      "Manitoba\n",
      "Alberta\n",
      "British Columbia\n"
     ]
    }
   ],
   "source": [
    "canadianProvinces = [\n",
    "                    'Ontario',\n",
    "                    'Quebec', \n",
    "                    'British Columbia',\n",
    "                    'New Brunswick',\n",
    "                    'Nova Scotia',\n",
    "                    'Prince Edward Island',\n",
    "                    'Newfoundland and Labrador',\n",
    "                    'Saskatchewan',\n",
    "                    'Manitoba',\n",
    "                    'Alberta',\n",
    "                    'British Columbia'\n",
    "                    ]\n",
    "for province in canadianProvinces:\n",
    "    print(province)"
   ]
  },
  {
   "cell_type": "code",
   "execution_count": 2,
   "metadata": {},
   "outputs": [
    {
     "name": "stdout",
     "output_type": "stream",
     "text": [
      "1\n",
      "2\n",
      "3\n",
      "4\n",
      "5\n"
     ]
    }
   ],
   "source": [
    "integers = [1, 2, 3, 4, 5]\n",
    "for x in integers:\n",
    "    print(x)"
   ]
  },
  {
   "cell_type": "code",
   "execution_count": 3,
   "metadata": {},
   "outputs": [
    {
     "name": "stdout",
     "output_type": "stream",
     "text": [
      "Nick\n",
      "Levi\n",
      "Josiah\n",
      "Micaiah\n",
      "Sam\n",
      "Taylor\n",
      "Joel\n"
     ]
    }
   ],
   "source": [
    "babyNames = ['Nick', 'Levi', 'Josiah', 'Micaiah', 'Sam', 'Taylor', 'Joel']\n",
    "for name in babyNames:\n",
    "    print(name)"
   ]
  },
  {
   "cell_type": "code",
   "execution_count": 4,
   "metadata": {},
   "outputs": [
    {
     "name": "stdout",
     "output_type": "stream",
     "text": [
      "Toyota\n",
      "Honda\n",
      "Ford\n",
      "GM\n"
     ]
    }
   ],
   "source": [
    "carmakers = ['Toyota', 'Honda', 'Ford', 'GM']\n",
    "for carmaker in carmakers:\n",
    "    print(carmaker)"
   ]
  },
  {
   "cell_type": "markdown",
   "metadata": {},
   "source": [
    "# Problem 2\n",
    "\n",
    "Create a `for` loop that counts the number of even and odd integers in the list below. It should return two strings on separate lines that print sentences with interpolated variables that inform the user how many of each integer type are in the list."
   ]
  },
  {
   "cell_type": "code",
   "execution_count": 5,
   "metadata": {},
   "outputs": [
    {
     "name": "stdout",
     "output_type": "stream",
     "text": [
      "Number of even numbers : 4\n",
      "Number of odd numbers : 5\n"
     ]
    }
   ],
   "source": [
    "numbers = [1, 2, 3, 4, 5, 6, 7, 8, 9]\n",
    "\n",
    "count_odd = 0\n",
    "count_even = 0\n",
    "for x in numbers:\n",
    "        if x % 2 == 0:\n",
    "    \t     count_even+=1\n",
    "        else:\n",
    "    \t     count_odd+=1\n",
    "print(f\"Number of even numbers : {count_even}\")\n",
    "print(f\"Number of odd numbers : {count_odd}\")"
   ]
  },
  {
   "cell_type": "markdown",
   "metadata": {},
   "source": [
    "# Problem 3\n",
    "\n",
    "Write a `for` loop that prints the integers from the following list - but only if they are even."
   ]
  },
  {
   "cell_type": "code",
   "execution_count": 6,
   "metadata": {},
   "outputs": [
    {
     "name": "stdout",
     "output_type": "stream",
     "text": [
      "2\n",
      "4\n",
      "6\n"
     ]
    }
   ],
   "source": [
    "integers = [2, 4, 5, 6]\n",
    "for integer in integers:\n",
    "    if(integer%2 == 0):\n",
    "        print(integer)        "
   ]
  },
  {
   "cell_type": "markdown",
   "metadata": {},
   "source": [
    "# Problem 4\n",
    "\n",
    "Write an infinite loop.\n",
    "\n",
    "To stop the infinite loop, click Kernel -> Restart at the top of the Jupyter Notebook."
   ]
  },
  {
   "cell_type": "code",
   "execution_count": 7,
   "metadata": {},
   "outputs": [],
   "source": [
    "while True:\n",
    "    print('Yikes')"
   ]
  },
  {
   "cell_type": "markdown",
   "metadata": {},
   "source": [
    "# Problem 5\n",
    "\n",
    "The factorial of any number n is represented by n! and is equal to 1*2*3*....*(n-1)*n. E.g.-\n",
    "4! = 1*2*3*4 = 24\n",
    "3! = 3*2*1 = 6\n",
    "2! = 2*1 = 2\n",
    "\n",
    "Given a provided integer named `number`, write a loop to calculate its factorial. You will need to account for the special cases of `1! = 1` and `0! = 1`."
   ]
  },
  {
   "cell_type": "code",
   "execution_count": 8,
   "metadata": {},
   "outputs": [
    {
     "name": "stdout",
     "output_type": "stream",
     "text": [
      "24\n"
     ]
    }
   ],
   "source": [
    "number = 4\n",
    "\n",
    "fac = 1\n",
    "if number == 0:\n",
    "    print(1)\n",
    "else:\n",
    "    while number>=1:\n",
    "        fac = fac*number\n",
    "        number = number-1\n",
    "print(fac)"
   ]
  },
  {
   "cell_type": "markdown",
   "metadata": {},
   "source": [
    "# Problem 6\n",
    "\n",
    "Write a `while` loop that has the same functionality as the following `for` loop."
   ]
  },
  {
   "cell_type": "code",
   "execution_count": 9,
   "metadata": {},
   "outputs": [
    {
     "name": "stdout",
     "output_type": "stream",
     "text": [
      "YOU WILL NOT BE ABLE TO FIND A TABLE CHEAPER THAN OUR PRICES AT FURNITURE MART!\n",
      "YOU WILL NOT BE ABLE TO FIND A CHAIR CHEAPER THAN OUR PRICES AT FURNITURE MART!\n",
      "YOU WILL NOT BE ABLE TO FIND A DESK CHEAPER THAN OUR PRICES AT FURNITURE MART!\n",
      "YOU WILL NOT BE ABLE TO FIND A LAMP CHEAPER THAN OUR PRICES AT FURNITURE MART!\n",
      "YOU WILL NOT BE ABLE TO FIND A COUCH CHEAPER THAN OUR PRICES AT FURNITURE MART!\n"
     ]
    }
   ],
   "source": [
    "furniture = ['table', 'chair', 'desk', 'lamp', 'couch']\n",
    "\n",
    "for item in furniture:\n",
    "    print(f'YOU WILL NOT BE ABLE TO FIND A {item.upper()} CHEAPER THAN OUR PRICES AT FURNITURE MART!')"
   ]
  },
  {
   "cell_type": "code",
   "execution_count": 10,
   "metadata": {},
   "outputs": [
    {
     "name": "stdout",
     "output_type": "stream",
     "text": [
      "YOU WILL NOT BE ABLE TO FIND A TABLE CHEAPER THAN OUR PRICES AT FURNITURE MART!\n",
      "YOU WILL NOT BE ABLE TO FIND A CHAIR CHEAPER THAN OUR PRICES AT FURNITURE MART!\n",
      "YOU WILL NOT BE ABLE TO FIND A DESK CHEAPER THAN OUR PRICES AT FURNITURE MART!\n",
      "YOU WILL NOT BE ABLE TO FIND A LAMP CHEAPER THAN OUR PRICES AT FURNITURE MART!\n",
      "YOU WILL NOT BE ABLE TO FIND A COUCH CHEAPER THAN OUR PRICES AT FURNITURE MART!\n"
     ]
    }
   ],
   "source": [
    "i = 0 \n",
    "while i < len(furniture):\n",
    "        print(f'YOU WILL NOT BE ABLE TO FIND A {furniture[i].upper()} CHEAPER THAN OUR PRICES AT FURNITURE MART!')\n",
    "        i += 1"
   ]
  },
  {
   "cell_type": "markdown",
   "metadata": {},
   "source": [
    "# Problem 7\n",
    "\n",
    "Write a `for` loop that has the same functionality as the following `while` loop."
   ]
  },
  {
   "cell_type": "code",
   "execution_count": 11,
   "metadata": {},
   "outputs": [
    {
     "name": "stdout",
     "output_type": "stream",
     "text": [
      "The product of all of the items in the list is 720\n"
     ]
    }
   ],
   "source": [
    "integerList = [1, 2, 3, 4, 5, 6]\n",
    "i = 0\n",
    "multiplierVariable = 1\n",
    "while i < len(integerList):\n",
    "    multiplierVariable = multiplierVariable * integerList[i]\n",
    "    i += 1\n",
    "print(f\"The product of all of the items in the list is {multiplierVariable}\")"
   ]
  },
  {
   "cell_type": "code",
   "execution_count": 12,
   "metadata": {},
   "outputs": [
    {
     "name": "stdout",
     "output_type": "stream",
     "text": [
      "The product of all of the items in the list is 720\n"
     ]
    }
   ],
   "source": [
    "multiplierVariable = 1\n",
    "for integer in integerList:\n",
    "    multiplierVariable = multiplierVariable * integer\n",
    "print(f\"The product of all of the items in the list is {multiplierVariable}\")"
   ]
  }
 ],
 "metadata": {
  "kernelspec": {
   "display_name": "Python 3",
   "language": "python",
   "name": "python3"
  },
  "language_info": {
   "codemirror_mode": {
    "name": "ipython",
    "version": 3
   },
   "file_extension": ".py",
   "mimetype": "text/x-python",
   "name": "python",
   "nbconvert_exporter": "python",
   "pygments_lexer": "ipython3",
   "version": "3.7.6"
  }
 },
 "nbformat": 4,
 "nbformat_minor": 4
}
